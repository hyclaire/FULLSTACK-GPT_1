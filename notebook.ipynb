{
 "cells": [
  {
   "cell_type": "code",
   "execution_count": 29,
   "metadata": {},
   "outputs": [
    {
     "name": "stdout",
     "output_type": "stream",
     "text": [
      "Indentation rules,\n",
      "Clean syntax and readability,\n",
      "Pythonic beauty.This haiku describes the beauty of Python programming language. It highlights the importance of following indentation rules, maintaining clean syntax, and focusing on readability in Python code. The term \"Pythonic beauty\" refers to the elegant and concise nature of Python code that adheres to these principles. Overall, the haiku celebrates the simplicity and elegance of writing code in Python."
     ]
    },
    {
     "data": {
      "text/plain": [
       "AIMessageChunk(content='This haiku describes the beauty of Python programming language. It highlights the importance of following indentation rules, maintaining clean syntax, and focusing on readability in Python code. The term \"Pythonic beauty\" refers to the elegant and concise nature of Python code that adheres to these principles. Overall, the haiku celebrates the simplicity and elegance of writing code in Python.')"
      ]
     },
     "execution_count": 29,
     "metadata": {},
     "output_type": "execute_result"
    }
   ],
   "source": [
    "#from langchain.llms import OpenAI\n",
    "from langchain.chat_models import ChatOpenAI\n",
    "from langchain.prompts import PromptTemplate, ChatPromptTemplate\n",
    "from langchain.schema import HumanMessage, AIMessage, SystemMessage\n",
    "\n",
    "from langchain.schema import BaseOutputParser\n",
    "from langchain.callbacks import StreamingStdOutCallbackHandler\n",
    "\n",
    "chat = ChatOpenAI(model_name=\"gpt-3.5-turbo\", temperature=0.1, streaming=True, callbacks=[StreamingStdOutCallbackHandler()])\n",
    "\n",
    "haikus_programming = ChatPromptTemplate.from_messages([\n",
    "    (\"system\", \"You are specialized in writing Haikus about programming languages. Please show me the haikus you made.\"),\n",
    "    (\"human\", \"{programming_language}\")\n",
    "])\n",
    "\n",
    "haikus_programming_chain = haikus_programming | chat\n",
    "\n",
    "explain_haikus = ChatPromptTemplate.from_messages([\n",
    "    (\"system\", \"You are specialized in in explaining Haikus. Please explain the given Haikus.\"),\n",
    "    (\"human\", \"{haikus}\")\n",
    "])\n",
    "\n",
    "explain_haikus_chain = explain_haikus | chat\n",
    "\n",
    "final_chain = {\"haikus\" : haikus_programming_chain} | explain_haikus_chain\n",
    "\n",
    "final_chain.invoke({\n",
    "    \"programming_language\": \"python\",\n",
    "}\n",
    ")"
   ]
  }
 ],
 "metadata": {
  "language_info": {
   "name": "python"
  }
 },
 "nbformat": 4,
 "nbformat_minor": 2
}
