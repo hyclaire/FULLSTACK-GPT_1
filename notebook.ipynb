{
 "cells": [
  {
   "cell_type": "code",
   "execution_count": null,
   "metadata": {},
   "outputs": [
    {
     "name": "stdout",
     "output_type": "stream",
     "text": [
      "Dynamic and fast,\n",
      "JavaScript rules the web world,\n",
      "Endless possibilities.This haiku describes the power and versatility of JavaScript in the world of web development. The first line sets the tone by describing JavaScript as dynamic and fast. The second line highlights the dominance of JavaScript in the web world. The final line emphasizes the endless possibilities that JavaScript offers for creating interactive and engaging web experiences. Overall, this haiku celebrates the impact and potential of JavaScript in shaping the digital landscape."
     ]
    },
    {
     "data": {
      "text/plain": [
       "AIMessageChunk(content='This haiku describes the power and versatility of JavaScript in the world of web development. The first line sets the tone by describing JavaScript as dynamic and fast. The second line highlights the dominance of JavaScript in the web world. The final line emphasizes the endless possibilities that JavaScript offers for creating interactive and engaging web experiences. Overall, this haiku celebrates the impact and potential of JavaScript in shaping the digital landscape.')"
      ]
     },
     "execution_count": 9,
     "metadata": {},
     "output_type": "execute_result"
    }
   ],
   "source": [
    "#from langchain.llms import OpenAI\n",
    "from langchain.chat_models import ChatOpenAI\n",
    "from langchain.prompts import PromptTemplate, ChatPromptTemplate\n",
    "from langchain.schema import HumanMessage, AIMessage, SystemMessage\n",
    "\n",
    "from langchain.schema import BaseOutputParser\n",
    "from langchain.callbacks import StreamingStdOutCallbackHandler\n",
    "\n",
    "chat = ChatOpenAI(model_name=\"gpt-3.5-turbo\", temperature=0.1, streaming=True, callbacks=[StreamingStdOutCallbackHandler()])\n",
    "\n",
    "haikus_programming = ChatPromptTemplate.from_messages([\n",
    "    (\"system\", \"You are specialized in writing Haikus about programming languages. Please show me the haikus you made.\"),\n",
    "    (\"human\", \"{programming_language}\")\n",
    "])\n",
    "\n",
    "haikus_programming_chain = haikus_programming | chat\n",
    "\n",
    "explain_haikus = ChatPromptTemplate.from_messages([\n",
    "    (\"system\", \"You are specialized in in explaining Haikus. Please explain the given Haikus.\"),\n",
    "    (\"human\", \"{haikus}\")\n",
    "])\n",
    "\n",
    "explain_haikus_chain = explain_haikus | chat\n",
    "\n",
    "final_chain = {\"haikus\" : haikus_programming_chain} | explain_haikus_chain\n",
    "\n",
    "final_chain.invoke({\n",
    "    \"programming_language\": \"python\",\n",
    "}\n",
    ")"
   ]
  }
 ],
 "metadata": {
  "kernelspec": {
   "display_name": "env",
   "language": "python",
   "name": "python3"
  },
  "language_info": {
   "codemirror_mode": {
    "name": "ipython",
    "version": 3
   },
   "file_extension": ".py",
   "mimetype": "text/x-python",
   "name": "python",
   "nbconvert_exporter": "python",
   "pygments_lexer": "ipython3",
   "version": "3.11.11"
  }
 },
 "nbformat": 4,
 "nbformat_minor": 2
}
